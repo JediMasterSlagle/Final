{
 "cells": [
  {
   "cell_type": "code",
   "execution_count": 69,
   "id": "3b8f1fda",
   "metadata": {},
   "outputs": [],
   "source": [
    "import pandas as pd\n",
    "import numpy as np\n",
    "import math\n",
    "import matplotlib.pyplot as plt\n",
    "%matplotlib inline\n",
    "import os\n",
    "from datetime import datetime\n",
    "import seaborn as sns\n",
    "import io\n",
    "from datetime import datetime\n",
    "import re\n"
   ]
  },
  {
   "cell_type": "code",
   "execution_count": 23,
   "id": "3e7d52e4",
   "metadata": {},
   "outputs": [],
   "source": [
    "df = pd.read_csv(\"../Final/US_Accidents_Dec21_updated.csv\")"
   ]
  },
  {
   "cell_type": "code",
   "execution_count": 24,
   "id": "95cd93ef",
   "metadata": {},
   "outputs": [
    {
     "data": {
      "text/html": [
       "<div>\n",
       "<style scoped>\n",
       "    .dataframe tbody tr th:only-of-type {\n",
       "        vertical-align: middle;\n",
       "    }\n",
       "\n",
       "    .dataframe tbody tr th {\n",
       "        vertical-align: top;\n",
       "    }\n",
       "\n",
       "    .dataframe thead th {\n",
       "        text-align: right;\n",
       "    }\n",
       "</style>\n",
       "<table border=\"1\" class=\"dataframe\">\n",
       "  <thead>\n",
       "    <tr style=\"text-align: right;\">\n",
       "      <th></th>\n",
       "      <th>ID</th>\n",
       "      <th>Severity</th>\n",
       "      <th>Start_Time</th>\n",
       "      <th>End_Time</th>\n",
       "      <th>Start_Lat</th>\n",
       "      <th>Start_Lng</th>\n",
       "      <th>End_Lat</th>\n",
       "      <th>End_Lng</th>\n",
       "      <th>Distance(mi)</th>\n",
       "      <th>Description</th>\n",
       "      <th>...</th>\n",
       "      <th>Roundabout</th>\n",
       "      <th>Station</th>\n",
       "      <th>Stop</th>\n",
       "      <th>Traffic_Calming</th>\n",
       "      <th>Traffic_Signal</th>\n",
       "      <th>Turning_Loop</th>\n",
       "      <th>Sunrise_Sunset</th>\n",
       "      <th>Civil_Twilight</th>\n",
       "      <th>Nautical_Twilight</th>\n",
       "      <th>Astronomical_Twilight</th>\n",
       "    </tr>\n",
       "  </thead>\n",
       "  <tbody>\n",
       "    <tr>\n",
       "      <th>0</th>\n",
       "      <td>A-1</td>\n",
       "      <td>3</td>\n",
       "      <td>2016-02-08 00:37:08</td>\n",
       "      <td>2016-02-08 06:37:08</td>\n",
       "      <td>40.108910</td>\n",
       "      <td>-83.092860</td>\n",
       "      <td>40.112060</td>\n",
       "      <td>-83.031870</td>\n",
       "      <td>3.230</td>\n",
       "      <td>Between Sawmill Rd/Exit 20 and OH-315/Olentang...</td>\n",
       "      <td>...</td>\n",
       "      <td>False</td>\n",
       "      <td>False</td>\n",
       "      <td>False</td>\n",
       "      <td>False</td>\n",
       "      <td>False</td>\n",
       "      <td>False</td>\n",
       "      <td>Night</td>\n",
       "      <td>Night</td>\n",
       "      <td>Night</td>\n",
       "      <td>Night</td>\n",
       "    </tr>\n",
       "    <tr>\n",
       "      <th>1</th>\n",
       "      <td>A-2</td>\n",
       "      <td>2</td>\n",
       "      <td>2016-02-08 05:56:20</td>\n",
       "      <td>2016-02-08 11:56:20</td>\n",
       "      <td>39.865420</td>\n",
       "      <td>-84.062800</td>\n",
       "      <td>39.865010</td>\n",
       "      <td>-84.048730</td>\n",
       "      <td>0.747</td>\n",
       "      <td>At OH-4/OH-235/Exit 41 - Accident.</td>\n",
       "      <td>...</td>\n",
       "      <td>False</td>\n",
       "      <td>False</td>\n",
       "      <td>False</td>\n",
       "      <td>False</td>\n",
       "      <td>False</td>\n",
       "      <td>False</td>\n",
       "      <td>Night</td>\n",
       "      <td>Night</td>\n",
       "      <td>Night</td>\n",
       "      <td>Night</td>\n",
       "    </tr>\n",
       "    <tr>\n",
       "      <th>2</th>\n",
       "      <td>A-3</td>\n",
       "      <td>2</td>\n",
       "      <td>2016-02-08 06:15:39</td>\n",
       "      <td>2016-02-08 12:15:39</td>\n",
       "      <td>39.102660</td>\n",
       "      <td>-84.524680</td>\n",
       "      <td>39.102090</td>\n",
       "      <td>-84.523960</td>\n",
       "      <td>0.055</td>\n",
       "      <td>At I-71/US-50/Exit 1 - Accident.</td>\n",
       "      <td>...</td>\n",
       "      <td>False</td>\n",
       "      <td>False</td>\n",
       "      <td>False</td>\n",
       "      <td>False</td>\n",
       "      <td>False</td>\n",
       "      <td>False</td>\n",
       "      <td>Night</td>\n",
       "      <td>Night</td>\n",
       "      <td>Night</td>\n",
       "      <td>Day</td>\n",
       "    </tr>\n",
       "    <tr>\n",
       "      <th>3</th>\n",
       "      <td>A-4</td>\n",
       "      <td>2</td>\n",
       "      <td>2016-02-08 06:51:45</td>\n",
       "      <td>2016-02-08 12:51:45</td>\n",
       "      <td>41.062130</td>\n",
       "      <td>-81.537840</td>\n",
       "      <td>41.062170</td>\n",
       "      <td>-81.535470</td>\n",
       "      <td>0.123</td>\n",
       "      <td>At Dart Ave/Exit 21 - Accident.</td>\n",
       "      <td>...</td>\n",
       "      <td>False</td>\n",
       "      <td>False</td>\n",
       "      <td>False</td>\n",
       "      <td>False</td>\n",
       "      <td>False</td>\n",
       "      <td>False</td>\n",
       "      <td>Night</td>\n",
       "      <td>Night</td>\n",
       "      <td>Day</td>\n",
       "      <td>Day</td>\n",
       "    </tr>\n",
       "    <tr>\n",
       "      <th>4</th>\n",
       "      <td>A-5</td>\n",
       "      <td>3</td>\n",
       "      <td>2016-02-08 07:53:43</td>\n",
       "      <td>2016-02-08 13:53:43</td>\n",
       "      <td>39.172393</td>\n",
       "      <td>-84.492792</td>\n",
       "      <td>39.170476</td>\n",
       "      <td>-84.501798</td>\n",
       "      <td>0.500</td>\n",
       "      <td>At Mitchell Ave/Exit 6 - Accident.</td>\n",
       "      <td>...</td>\n",
       "      <td>False</td>\n",
       "      <td>False</td>\n",
       "      <td>False</td>\n",
       "      <td>False</td>\n",
       "      <td>False</td>\n",
       "      <td>False</td>\n",
       "      <td>Day</td>\n",
       "      <td>Day</td>\n",
       "      <td>Day</td>\n",
       "      <td>Day</td>\n",
       "    </tr>\n",
       "  </tbody>\n",
       "</table>\n",
       "<p>5 rows × 47 columns</p>\n",
       "</div>"
      ],
      "text/plain": [
       "    ID  Severity           Start_Time             End_Time  Start_Lat  \\\n",
       "0  A-1         3  2016-02-08 00:37:08  2016-02-08 06:37:08  40.108910   \n",
       "1  A-2         2  2016-02-08 05:56:20  2016-02-08 11:56:20  39.865420   \n",
       "2  A-3         2  2016-02-08 06:15:39  2016-02-08 12:15:39  39.102660   \n",
       "3  A-4         2  2016-02-08 06:51:45  2016-02-08 12:51:45  41.062130   \n",
       "4  A-5         3  2016-02-08 07:53:43  2016-02-08 13:53:43  39.172393   \n",
       "\n",
       "   Start_Lng    End_Lat    End_Lng  Distance(mi)  \\\n",
       "0 -83.092860  40.112060 -83.031870         3.230   \n",
       "1 -84.062800  39.865010 -84.048730         0.747   \n",
       "2 -84.524680  39.102090 -84.523960         0.055   \n",
       "3 -81.537840  41.062170 -81.535470         0.123   \n",
       "4 -84.492792  39.170476 -84.501798         0.500   \n",
       "\n",
       "                                         Description  ...  Roundabout Station  \\\n",
       "0  Between Sawmill Rd/Exit 20 and OH-315/Olentang...  ...       False   False   \n",
       "1                 At OH-4/OH-235/Exit 41 - Accident.  ...       False   False   \n",
       "2                   At I-71/US-50/Exit 1 - Accident.  ...       False   False   \n",
       "3                    At Dart Ave/Exit 21 - Accident.  ...       False   False   \n",
       "4                 At Mitchell Ave/Exit 6 - Accident.  ...       False   False   \n",
       "\n",
       "    Stop Traffic_Calming Traffic_Signal Turning_Loop Sunrise_Sunset  \\\n",
       "0  False           False          False        False          Night   \n",
       "1  False           False          False        False          Night   \n",
       "2  False           False          False        False          Night   \n",
       "3  False           False          False        False          Night   \n",
       "4  False           False          False        False            Day   \n",
       "\n",
       "  Civil_Twilight Nautical_Twilight Astronomical_Twilight  \n",
       "0          Night             Night                 Night  \n",
       "1          Night             Night                 Night  \n",
       "2          Night             Night                   Day  \n",
       "3          Night               Day                   Day  \n",
       "4            Day               Day                   Day  \n",
       "\n",
       "[5 rows x 47 columns]"
      ]
     },
     "execution_count": 24,
     "metadata": {},
     "output_type": "execute_result"
    }
   ],
   "source": [
    "df.head()"
   ]
  },
  {
   "cell_type": "code",
   "execution_count": 26,
   "id": "09122147",
   "metadata": {},
   "outputs": [
    {
     "data": {
      "image/png": "[encoded data removed]",
      "text/plain": [
       "<Figure size 1080x432 with 1 Axes>"
      ]
     },
     "metadata": {
      "needs_background": "light"
     },
     "output_type": "display_data"
    }
   ],
   "source": [
    "plt.figure(figsize=(15,6))\n",
    "severity_level = df.Severity.value_counts().plot(kind='bar',color='purple')\n",
    "severity_level.set_xlabel('Severity Level', fontsize=15)\n",
    "severity_level.set_ylabel('Count', fontsize=15)\n",
    "severity_level.set_title('Highest Accident Severity Level', fontsize=20)\n",
    "plt.xticks(fontsize= 15) \n",
    "plt.yticks(fontsize= 15) \n",
    "plt.show()"
   ]
  },
  {
   "cell_type": "code",
   "execution_count": 28,
   "id": "a886b31e",
   "metadata": {},
   "outputs": [
    {
     "data": {
      "image/png": "[encoded data removed]",
      "text/plain": [
       "<Figure size 1080x432 with 1 Axes>"
      ]
     },
     "metadata": {
      "needs_background": "light"
     },
     "output_type": "display_data"
    }
   ],
   "source": [
    "plt.figure(figsize=(15,6))\n",
    "state_accidents = df.State.value_counts().plot(kind='bar',color='green')\n",
    "state_accidents.set_xlabel('States', fontsize=15)\n",
    "state_accidents.set_ylabel('Accidents', fontsize=15)\n",
    "state_accidents.set_title('State Wise Traffic Accidents Recorded', fontsize=20)\n",
    "plt.show()"
   ]
  },
  {
   "cell_type": "code",
   "execution_count": 29,
   "id": "7ca823da",
   "metadata": {},
   "outputs": [
    {
     "data": {
      "text/plain": [
       "11682"
      ]
     },
     "execution_count": 29,
     "metadata": {},
     "output_type": "execute_result"
    },
    {
     "data": {
      "image/png": "[encoded data removed]",
      "text/plain": [
       "<Figure size 1080x576 with 1 Axes>"
      ]
     },
     "metadata": {
      "needs_background": "light"
     },
     "output_type": "display_data"
    }
   ],
   "source": [
    "figure,axis =plt.subplots(figsize=(15,8))\n",
    "df['Weather_Condition'].value_counts().sort_values(ascending=False).head(10).plot.bar(width=0.5,edgecolor='y',align='center',linewidth=3, color = 'y')\n",
    "plt.xlabel('Weather_Condition',fontsize=15)\n",
    "plt.ylabel('Number of Accidents',fontsize=15)\n",
    "axis.tick_params(labelsize=15)\n",
    "plt.title('10 Top Weather Condition for accidents',fontsize=20)\n",
    "plt.grid()\n",
    "len(cities)"
   ]
  },
  {
   "cell_type": "code",
   "execution_count": 41,
   "id": "e39bd89b",
   "metadata": {},
   "outputs": [],
   "source": [
    "###cleaninng"
   ]
  },
  {
   "cell_type": "code",
   "execution_count": 43,
   "id": "a9330bc8",
   "metadata": {},
   "outputs": [
    {
     "data": {
      "text/html": [
       "<div>\n",
       "<style scoped>\n",
       "    .dataframe tbody tr th:only-of-type {\n",
       "        vertical-align: middle;\n",
       "    }\n",
       "\n",
       "    .dataframe tbody tr th {\n",
       "        vertical-align: top;\n",
       "    }\n",
       "\n",
       "    .dataframe thead th {\n",
       "        text-align: right;\n",
       "    }\n",
       "</style>\n",
       "<table border=\"1\" class=\"dataframe\">\n",
       "  <thead>\n",
       "    <tr style=\"text-align: right;\">\n",
       "      <th></th>\n",
       "      <th>ID</th>\n",
       "      <th>Severity</th>\n",
       "      <th>Start_Lat</th>\n",
       "      <th>Start_Lng</th>\n",
       "      <th>State</th>\n",
       "      <th>Zipcode</th>\n",
       "      <th>Temperature(F)</th>\n",
       "      <th>Wind_Chill(F)</th>\n",
       "      <th>Humidity(%)</th>\n",
       "      <th>Pressure(in)</th>\n",
       "      <th>...</th>\n",
       "      <th>No_Exit</th>\n",
       "      <th>Railway</th>\n",
       "      <th>Roundabout</th>\n",
       "      <th>Station</th>\n",
       "      <th>Stop</th>\n",
       "      <th>Traffic_Calming</th>\n",
       "      <th>Traffic_Signal</th>\n",
       "      <th>Turning_Loop</th>\n",
       "      <th>Sunrise_Sunset</th>\n",
       "      <th>Month</th>\n",
       "    </tr>\n",
       "  </thead>\n",
       "  <tbody>\n",
       "    <tr>\n",
       "      <th>0</th>\n",
       "      <td>A-1</td>\n",
       "      <td>3</td>\n",
       "      <td>40.108910</td>\n",
       "      <td>-83.092860</td>\n",
       "      <td>OH</td>\n",
       "      <td>43017</td>\n",
       "      <td>42.1</td>\n",
       "      <td>36.1</td>\n",
       "      <td>58.0</td>\n",
       "      <td>29.76</td>\n",
       "      <td>...</td>\n",
       "      <td>False</td>\n",
       "      <td>False</td>\n",
       "      <td>False</td>\n",
       "      <td>False</td>\n",
       "      <td>False</td>\n",
       "      <td>False</td>\n",
       "      <td>False</td>\n",
       "      <td>False</td>\n",
       "      <td>Night</td>\n",
       "      <td>2016-02-08 00:37:08</td>\n",
       "    </tr>\n",
       "    <tr>\n",
       "      <th>1</th>\n",
       "      <td>A-2</td>\n",
       "      <td>2</td>\n",
       "      <td>39.865420</td>\n",
       "      <td>-84.062800</td>\n",
       "      <td>OH</td>\n",
       "      <td>45424</td>\n",
       "      <td>36.9</td>\n",
       "      <td>NaN</td>\n",
       "      <td>91.0</td>\n",
       "      <td>29.68</td>\n",
       "      <td>...</td>\n",
       "      <td>False</td>\n",
       "      <td>False</td>\n",
       "      <td>False</td>\n",
       "      <td>False</td>\n",
       "      <td>False</td>\n",
       "      <td>False</td>\n",
       "      <td>False</td>\n",
       "      <td>False</td>\n",
       "      <td>Night</td>\n",
       "      <td>2016-02-08 05:56:20</td>\n",
       "    </tr>\n",
       "    <tr>\n",
       "      <th>2</th>\n",
       "      <td>A-3</td>\n",
       "      <td>2</td>\n",
       "      <td>39.102660</td>\n",
       "      <td>-84.524680</td>\n",
       "      <td>OH</td>\n",
       "      <td>45203</td>\n",
       "      <td>36.0</td>\n",
       "      <td>NaN</td>\n",
       "      <td>97.0</td>\n",
       "      <td>29.70</td>\n",
       "      <td>...</td>\n",
       "      <td>False</td>\n",
       "      <td>False</td>\n",
       "      <td>False</td>\n",
       "      <td>False</td>\n",
       "      <td>False</td>\n",
       "      <td>False</td>\n",
       "      <td>False</td>\n",
       "      <td>False</td>\n",
       "      <td>Night</td>\n",
       "      <td>2016-02-08 06:15:39</td>\n",
       "    </tr>\n",
       "    <tr>\n",
       "      <th>3</th>\n",
       "      <td>A-4</td>\n",
       "      <td>2</td>\n",
       "      <td>41.062130</td>\n",
       "      <td>-81.537840</td>\n",
       "      <td>OH</td>\n",
       "      <td>44311</td>\n",
       "      <td>39.0</td>\n",
       "      <td>NaN</td>\n",
       "      <td>55.0</td>\n",
       "      <td>29.65</td>\n",
       "      <td>...</td>\n",
       "      <td>False</td>\n",
       "      <td>False</td>\n",
       "      <td>False</td>\n",
       "      <td>False</td>\n",
       "      <td>False</td>\n",
       "      <td>False</td>\n",
       "      <td>False</td>\n",
       "      <td>False</td>\n",
       "      <td>Night</td>\n",
       "      <td>2016-02-08 06:51:45</td>\n",
       "    </tr>\n",
       "    <tr>\n",
       "      <th>4</th>\n",
       "      <td>A-5</td>\n",
       "      <td>3</td>\n",
       "      <td>39.172393</td>\n",
       "      <td>-84.492792</td>\n",
       "      <td>OH</td>\n",
       "      <td>45217</td>\n",
       "      <td>37.0</td>\n",
       "      <td>29.8</td>\n",
       "      <td>93.0</td>\n",
       "      <td>29.69</td>\n",
       "      <td>...</td>\n",
       "      <td>False</td>\n",
       "      <td>False</td>\n",
       "      <td>False</td>\n",
       "      <td>False</td>\n",
       "      <td>False</td>\n",
       "      <td>False</td>\n",
       "      <td>False</td>\n",
       "      <td>False</td>\n",
       "      <td>Day</td>\n",
       "      <td>2016-02-08 07:53:43</td>\n",
       "    </tr>\n",
       "  </tbody>\n",
       "</table>\n",
       "<p>5 rows × 30 columns</p>\n",
       "</div>"
      ],
      "text/plain": [
       "    ID  Severity  Start_Lat  Start_Lng State Zipcode  Temperature(F)  \\\n",
       "0  A-1         3  40.108910 -83.092860    OH   43017            42.1   \n",
       "1  A-2         2  39.865420 -84.062800    OH   45424            36.9   \n",
       "2  A-3         2  39.102660 -84.524680    OH   45203            36.0   \n",
       "3  A-4         2  41.062130 -81.537840    OH   44311            39.0   \n",
       "4  A-5         3  39.172393 -84.492792    OH   45217            37.0   \n",
       "\n",
       "   Wind_Chill(F)  Humidity(%)  Pressure(in)  ...  No_Exit Railway  Roundabout  \\\n",
       "0           36.1         58.0         29.76  ...    False   False       False   \n",
       "1            NaN         91.0         29.68  ...    False   False       False   \n",
       "2            NaN         97.0         29.70  ...    False   False       False   \n",
       "3            NaN         55.0         29.65  ...    False   False       False   \n",
       "4           29.8         93.0         29.69  ...    False   False       False   \n",
       "\n",
       "   Station   Stop  Traffic_Calming  Traffic_Signal  Turning_Loop  \\\n",
       "0    False  False            False           False         False   \n",
       "1    False  False            False           False         False   \n",
       "2    False  False            False           False         False   \n",
       "3    False  False            False           False         False   \n",
       "4    False  False            False           False         False   \n",
       "\n",
       "   Sunrise_Sunset                Month  \n",
       "0           Night  2016-02-08 00:37:08  \n",
       "1           Night  2016-02-08 05:56:20  \n",
       "2           Night  2016-02-08 06:15:39  \n",
       "3           Night  2016-02-08 06:51:45  \n",
       "4             Day  2016-02-08 07:53:43  \n",
       "\n",
       "[5 rows x 30 columns]"
      ]
     },
     "execution_count": 43,
     "metadata": {},
     "output_type": "execute_result"
    }
   ],
   "source": [
    "drop_irrelavent_cols = df.loc[:,['Start_Time', 'End_Time','Distance(mi)', 'Description', 'Street', 'Side', 'City', 'County',\n",
    "                                 'Timezone','Country', 'Airport_Code','Weather_Timestamp','Civil_Twilight', \n",
    "                                 'Nautical_Twilight','Astronomical_Twilight',\"End_Lat\", \"End_Lng\", \"Number\"]]\n",
    "\n",
    "df_clean = df.drop(drop_irrelavent_cols,axis =1)\n",
    "df_clean.shape\n",
    "df_clean.head()"
   ]
  },
  {
   "cell_type": "code",
   "execution_count": 44,
   "id": "ac72ae8b",
   "metadata": {},
   "outputs": [],
   "source": [
    "##renaming"
   ]
  },
  {
   "cell_type": "code",
   "execution_count": 45,
   "id": "20069081",
   "metadata": {},
   "outputs": [],
   "source": [
    "df_clean=df_clean.rename(columns = {'Temperature(F)':'Temperature','Wind_Chill(F)':'Wind_Chill','Humidity(%)':'Humidity',\n",
    "                        'Pressure(in)':'Pressure','Visibility(mi)':'Visibility','Wind_Speed(mph)':'Wind_Speed',\n",
    "                        'Precipitation(in)':'Precipitation'})"
   ]
  },
  {
   "cell_type": "code",
   "execution_count": 46,
   "id": "635bfe8c",
   "metadata": {},
   "outputs": [
    {
     "data": {
      "text/html": [
       "<div>\n",
       "<style scoped>\n",
       "    .dataframe tbody tr th:only-of-type {\n",
       "        vertical-align: middle;\n",
       "    }\n",
       "\n",
       "    .dataframe tbody tr th {\n",
       "        vertical-align: top;\n",
       "    }\n",
       "\n",
       "    .dataframe thead th {\n",
       "        text-align: right;\n",
       "    }\n",
       "</style>\n",
       "<table border=\"1\" class=\"dataframe\">\n",
       "  <thead>\n",
       "    <tr style=\"text-align: right;\">\n",
       "      <th></th>\n",
       "      <th>Severity</th>\n",
       "      <th>Start_Lat</th>\n",
       "      <th>Start_Lng</th>\n",
       "      <th>State</th>\n",
       "      <th>Zipcode</th>\n",
       "      <th>Temperature</th>\n",
       "      <th>Wind_Chill</th>\n",
       "      <th>Humidity</th>\n",
       "      <th>Pressure</th>\n",
       "      <th>Visibility</th>\n",
       "      <th>...</th>\n",
       "      <th>No_Exit</th>\n",
       "      <th>Railway</th>\n",
       "      <th>Roundabout</th>\n",
       "      <th>Station</th>\n",
       "      <th>Stop</th>\n",
       "      <th>Traffic_Calming</th>\n",
       "      <th>Traffic_Signal</th>\n",
       "      <th>Turning_Loop</th>\n",
       "      <th>Sunrise_Sunset</th>\n",
       "      <th>Month</th>\n",
       "    </tr>\n",
       "    <tr>\n",
       "      <th>ID</th>\n",
       "      <th></th>\n",
       "      <th></th>\n",
       "      <th></th>\n",
       "      <th></th>\n",
       "      <th></th>\n",
       "      <th></th>\n",
       "      <th></th>\n",
       "      <th></th>\n",
       "      <th></th>\n",
       "      <th></th>\n",
       "      <th></th>\n",
       "      <th></th>\n",
       "      <th></th>\n",
       "      <th></th>\n",
       "      <th></th>\n",
       "      <th></th>\n",
       "      <th></th>\n",
       "      <th></th>\n",
       "      <th></th>\n",
       "      <th></th>\n",
       "      <th></th>\n",
       "    </tr>\n",
       "  </thead>\n",
       "  <tbody>\n",
       "    <tr>\n",
       "      <th>A-1</th>\n",
       "      <td>3</td>\n",
       "      <td>40.108910</td>\n",
       "      <td>-83.092860</td>\n",
       "      <td>OH</td>\n",
       "      <td>43017</td>\n",
       "      <td>42.1</td>\n",
       "      <td>36.1</td>\n",
       "      <td>58.0</td>\n",
       "      <td>29.76</td>\n",
       "      <td>10.0</td>\n",
       "      <td>...</td>\n",
       "      <td>False</td>\n",
       "      <td>False</td>\n",
       "      <td>False</td>\n",
       "      <td>False</td>\n",
       "      <td>False</td>\n",
       "      <td>False</td>\n",
       "      <td>False</td>\n",
       "      <td>False</td>\n",
       "      <td>Night</td>\n",
       "      <td>2016-02-08 00:37:08</td>\n",
       "    </tr>\n",
       "    <tr>\n",
       "      <th>A-2</th>\n",
       "      <td>2</td>\n",
       "      <td>39.865420</td>\n",
       "      <td>-84.062800</td>\n",
       "      <td>OH</td>\n",
       "      <td>45424</td>\n",
       "      <td>36.9</td>\n",
       "      <td>NaN</td>\n",
       "      <td>91.0</td>\n",
       "      <td>29.68</td>\n",
       "      <td>10.0</td>\n",
       "      <td>...</td>\n",
       "      <td>False</td>\n",
       "      <td>False</td>\n",
       "      <td>False</td>\n",
       "      <td>False</td>\n",
       "      <td>False</td>\n",
       "      <td>False</td>\n",
       "      <td>False</td>\n",
       "      <td>False</td>\n",
       "      <td>Night</td>\n",
       "      <td>2016-02-08 05:56:20</td>\n",
       "    </tr>\n",
       "    <tr>\n",
       "      <th>A-3</th>\n",
       "      <td>2</td>\n",
       "      <td>39.102660</td>\n",
       "      <td>-84.524680</td>\n",
       "      <td>OH</td>\n",
       "      <td>45203</td>\n",
       "      <td>36.0</td>\n",
       "      <td>NaN</td>\n",
       "      <td>97.0</td>\n",
       "      <td>29.70</td>\n",
       "      <td>10.0</td>\n",
       "      <td>...</td>\n",
       "      <td>False</td>\n",
       "      <td>False</td>\n",
       "      <td>False</td>\n",
       "      <td>False</td>\n",
       "      <td>False</td>\n",
       "      <td>False</td>\n",
       "      <td>False</td>\n",
       "      <td>False</td>\n",
       "      <td>Night</td>\n",
       "      <td>2016-02-08 06:15:39</td>\n",
       "    </tr>\n",
       "    <tr>\n",
       "      <th>A-4</th>\n",
       "      <td>2</td>\n",
       "      <td>41.062130</td>\n",
       "      <td>-81.537840</td>\n",
       "      <td>OH</td>\n",
       "      <td>44311</td>\n",
       "      <td>39.0</td>\n",
       "      <td>NaN</td>\n",
       "      <td>55.0</td>\n",
       "      <td>29.65</td>\n",
       "      <td>10.0</td>\n",
       "      <td>...</td>\n",
       "      <td>False</td>\n",
       "      <td>False</td>\n",
       "      <td>False</td>\n",
       "      <td>False</td>\n",
       "      <td>False</td>\n",
       "      <td>False</td>\n",
       "      <td>False</td>\n",
       "      <td>False</td>\n",
       "      <td>Night</td>\n",
       "      <td>2016-02-08 06:51:45</td>\n",
       "    </tr>\n",
       "    <tr>\n",
       "      <th>A-5</th>\n",
       "      <td>3</td>\n",
       "      <td>39.172393</td>\n",
       "      <td>-84.492792</td>\n",
       "      <td>OH</td>\n",
       "      <td>45217</td>\n",
       "      <td>37.0</td>\n",
       "      <td>29.8</td>\n",
       "      <td>93.0</td>\n",
       "      <td>29.69</td>\n",
       "      <td>10.0</td>\n",
       "      <td>...</td>\n",
       "      <td>False</td>\n",
       "      <td>False</td>\n",
       "      <td>False</td>\n",
       "      <td>False</td>\n",
       "      <td>False</td>\n",
       "      <td>False</td>\n",
       "      <td>False</td>\n",
       "      <td>False</td>\n",
       "      <td>Day</td>\n",
       "      <td>2016-02-08 07:53:43</td>\n",
       "    </tr>\n",
       "  </tbody>\n",
       "</table>\n",
       "<p>5 rows × 29 columns</p>\n",
       "</div>"
      ],
      "text/plain": [
       "     Severity  Start_Lat  Start_Lng State Zipcode  Temperature  Wind_Chill  \\\n",
       "ID                                                                           \n",
       "A-1         3  40.108910 -83.092860    OH   43017         42.1        36.1   \n",
       "A-2         2  39.865420 -84.062800    OH   45424         36.9         NaN   \n",
       "A-3         2  39.102660 -84.524680    OH   45203         36.0         NaN   \n",
       "A-4         2  41.062130 -81.537840    OH   44311         39.0         NaN   \n",
       "A-5         3  39.172393 -84.492792    OH   45217         37.0        29.8   \n",
       "\n",
       "     Humidity  Pressure  Visibility  ... No_Exit  Railway  Roundabout Station  \\\n",
       "ID                                   ...                                        \n",
       "A-1      58.0     29.76        10.0  ...   False    False       False   False   \n",
       "A-2      91.0     29.68        10.0  ...   False    False       False   False   \n",
       "A-3      97.0     29.70        10.0  ...   False    False       False   False   \n",
       "A-4      55.0     29.65        10.0  ...   False    False       False   False   \n",
       "A-5      93.0     29.69        10.0  ...   False    False       False   False   \n",
       "\n",
       "      Stop  Traffic_Calming  Traffic_Signal  Turning_Loop  Sunrise_Sunset  \\\n",
       "ID                                                                          \n",
       "A-1  False            False           False         False           Night   \n",
       "A-2  False            False           False         False           Night   \n",
       "A-3  False            False           False         False           Night   \n",
       "A-4  False            False           False         False           Night   \n",
       "A-5  False            False           False         False             Day   \n",
       "\n",
       "                   Month  \n",
       "ID                        \n",
       "A-1  2016-02-08 00:37:08  \n",
       "A-2  2016-02-08 05:56:20  \n",
       "A-3  2016-02-08 06:15:39  \n",
       "A-4  2016-02-08 06:51:45  \n",
       "A-5  2016-02-08 07:53:43  \n",
       "\n",
       "[5 rows x 29 columns]"
      ]
     },
     "execution_count": 46,
     "metadata": {},
     "output_type": "execute_result"
    }
   ],
   "source": [
    "#id as index\n",
    "df_clean = df_clean.set_index('ID') \n",
    "df_clean.head()"
   ]
  },
  {
   "cell_type": "code",
   "execution_count": 47,
   "id": "7137a4f5",
   "metadata": {},
   "outputs": [],
   "source": [
    "##add mean to features\n",
    "df_clean['Temperature'] = df_clean['Temperature'].fillna(df_clean['Temperature'].mean())\n",
    "df_clean['Humidity'] = df_clean['Humidity'].fillna(df_clean['Humidity'].mean())\n",
    "df_clean['Wind_Chill'] = df_clean['Wind_Chill'].fillna(df_clean['Wind_Chill'].mean())\n",
    "df_clean['Pressure'] = df_clean['Pressure'].fillna(df_clean['Pressure'].mean())\n",
    "df_clean['Wind_Speed'] = df_clean['Wind_Speed'].fillna(df_clean['Wind_Speed'].mean())\n",
    "df_clean['Precipitation'] = df_clean['Precipitation'].fillna(df_clean['Precipitation'].mean())"
   ]
  },
  {
   "cell_type": "code",
   "execution_count": 48,
   "id": "17fb1f38",
   "metadata": {},
   "outputs": [],
   "source": [
    "##mode\n",
    "df_clean['Weather_Condition'] = df_clean['Weather_Condition'].fillna(df_clean['Weather_Condition'].mode().iloc[0])\n",
    "df_clean['Visibility'] = df_clean['Visibility'].fillna(df_clean['Visibility'].mode().iloc[0])\n",
    "df_clean['Wind_Direction'] = df_clean['Wind_Direction'].fillna(df_clean['Wind_Direction'].mode().iloc[0])\n",
    "df_clean['Sunrise_Sunset'] = df_clean['Sunrise_Sunset'].fillna(df_clean['Sunrise_Sunset'].mode().iloc[0])"
   ]
  },
  {
   "cell_type": "code",
   "execution_count": 49,
   "id": "13f89458",
   "metadata": {},
   "outputs": [
    {
     "data": {
      "text/plain": [
       "(2844023, 29)"
      ]
     },
     "execution_count": 49,
     "metadata": {},
     "output_type": "execute_result"
    }
   ],
   "source": [
    "##drop missing values\n",
    "df_clean = df_clean.dropna()\n",
    "df_clean.shape"
   ]
  },
  {
   "cell_type": "code",
   "execution_count": 54,
   "id": "116e0e3c",
   "metadata": {},
   "outputs": [
    {
     "name": "stdout",
     "output_type": "stream",
     "text": [
      "Unique count of categorical features:\n",
      "Side 3\n",
      "Country 1\n",
      "Timezone 5\n",
      "Amenity 2\n",
      "Bump 2\n",
      "Crossing 2\n",
      "Give_Way 2\n",
      "Junction 2\n",
      "No_Exit 2\n",
      "Railway 2\n",
      "Roundabout 2\n",
      "Station 2\n",
      "Stop 2\n",
      "Traffic_Calming 2\n",
      "Traffic_Signal 2\n",
      "Turning_Loop 1\n",
      "Sunrise_Sunset 3\n",
      "Civil_Twilight 3\n",
      "Nautical_Twilight 3\n",
      "Astronomical_Twilight 3\n"
     ]
    }
   ],
   "source": [
    "cat_names = ['Side', 'Country', 'Timezone', 'Amenity', 'Bump', 'Crossing', \n",
    "             'Give_Way', 'Junction', 'No_Exit', 'Railway', 'Roundabout', 'Station', \n",
    "             'Stop', 'Traffic_Calming', 'Traffic_Signal', 'Turning_Loop', 'Sunrise_Sunset', \n",
    "             'Civil_Twilight', 'Nautical_Twilight', 'Astronomical_Twilight']\n",
    "print(\"Unique count of categorical features:\")\n",
    "for i in cat_names:\n",
    "  print(i,df[i].unique().size)"
   ]
  },
  {
   "cell_type": "code",
   "execution_count": 55,
   "id": "b96bb785",
   "metadata": {},
   "outputs": [
    {
     "name": "stdout",
     "output_type": "stream",
     "text": [
      "Wind Direction after simplification:  ['SW' 'CALM' 'W' 'N' 'S' 'NW' 'E' 'SE' nan 'VAR' 'NE']\n"
     ]
    }
   ],
   "source": [
    "##simplify weather / wind direction\n",
    "\n",
    "df.loc[df['Wind_Direction']=='Calm','Wind_Direction'] = 'CALM'\n",
    "df.loc[(df['Wind_Direction']=='West')|(df['Wind_Direction']=='WSW')|(df['Wind_Direction']=='WNW'),'Wind_Direction'] = 'W'\n",
    "df.loc[(df['Wind_Direction']=='South')|(df['Wind_Direction']=='SSW')|(df['Wind_Direction']=='SSE'),'Wind_Direction'] = 'S'\n",
    "df.loc[(df['Wind_Direction']=='North')|(df['Wind_Direction']=='NNW')|(df['Wind_Direction']=='NNE'),'Wind_Direction'] = 'N'\n",
    "df.loc[(df['Wind_Direction']=='East')|(df['Wind_Direction']=='ESE')|(df['Wind_Direction']=='ENE'),'Wind_Direction'] = 'E'\n",
    "df.loc[df['Wind_Direction']=='Variable','Wind_Direction'] = 'VAR'\n",
    "print(\"Wind Direction after simplification: \", df['Wind_Direction'].unique())"
   ]
  },
  {
   "cell_type": "code",
   "execution_count": 56,
   "id": "ab7cb4cf",
   "metadata": {},
   "outputs": [
    {
     "data": {
      "text/html": [
       "<div>\n",
       "<style scoped>\n",
       "    .dataframe tbody tr th:only-of-type {\n",
       "        vertical-align: middle;\n",
       "    }\n",
       "\n",
       "    .dataframe tbody tr th {\n",
       "        vertical-align: top;\n",
       "    }\n",
       "\n",
       "    .dataframe thead th {\n",
       "        text-align: right;\n",
       "    }\n",
       "</style>\n",
       "<table border=\"1\" class=\"dataframe\">\n",
       "  <thead>\n",
       "    <tr style=\"text-align: right;\">\n",
       "      <th></th>\n",
       "      <th>Feature</th>\n",
       "      <th>Missing_Percent(%)</th>\n",
       "    </tr>\n",
       "  </thead>\n",
       "  <tbody>\n",
       "    <tr>\n",
       "      <th>10</th>\n",
       "      <td>Number</td>\n",
       "      <td>61.290031</td>\n",
       "    </tr>\n",
       "    <tr>\n",
       "      <th>11</th>\n",
       "      <td>Street</td>\n",
       "      <td>0.000070</td>\n",
       "    </tr>\n",
       "    <tr>\n",
       "      <th>13</th>\n",
       "      <td>City</td>\n",
       "      <td>0.004815</td>\n",
       "    </tr>\n",
       "    <tr>\n",
       "      <th>16</th>\n",
       "      <td>Zipcode</td>\n",
       "      <td>0.046356</td>\n",
       "    </tr>\n",
       "    <tr>\n",
       "      <th>18</th>\n",
       "      <td>Timezone</td>\n",
       "      <td>0.128596</td>\n",
       "    </tr>\n",
       "    <tr>\n",
       "      <th>19</th>\n",
       "      <td>Airport_Code</td>\n",
       "      <td>0.335601</td>\n",
       "    </tr>\n",
       "    <tr>\n",
       "      <th>20</th>\n",
       "      <td>Weather_Timestamp</td>\n",
       "      <td>1.783125</td>\n",
       "    </tr>\n",
       "    <tr>\n",
       "      <th>21</th>\n",
       "      <td>Temperature(F)</td>\n",
       "      <td>2.434646</td>\n",
       "    </tr>\n",
       "    <tr>\n",
       "      <th>22</th>\n",
       "      <td>Wind_Chill(F)</td>\n",
       "      <td>16.505678</td>\n",
       "    </tr>\n",
       "    <tr>\n",
       "      <th>23</th>\n",
       "      <td>Humidity(%)</td>\n",
       "      <td>2.568830</td>\n",
       "    </tr>\n",
       "    <tr>\n",
       "      <th>24</th>\n",
       "      <td>Pressure(in)</td>\n",
       "      <td>2.080593</td>\n",
       "    </tr>\n",
       "    <tr>\n",
       "      <th>25</th>\n",
       "      <td>Visibility(mi)</td>\n",
       "      <td>2.479350</td>\n",
       "    </tr>\n",
       "    <tr>\n",
       "      <th>26</th>\n",
       "      <td>Wind_Direction</td>\n",
       "      <td>2.592834</td>\n",
       "    </tr>\n",
       "    <tr>\n",
       "      <th>27</th>\n",
       "      <td>Wind_Speed(mph)</td>\n",
       "      <td>5.550967</td>\n",
       "    </tr>\n",
       "    <tr>\n",
       "      <th>28</th>\n",
       "      <td>Precipitation(in)</td>\n",
       "      <td>19.310789</td>\n",
       "    </tr>\n",
       "    <tr>\n",
       "      <th>29</th>\n",
       "      <td>Weather_Condition</td>\n",
       "      <td>2.482514</td>\n",
       "    </tr>\n",
       "    <tr>\n",
       "      <th>43</th>\n",
       "      <td>Sunrise_Sunset</td>\n",
       "      <td>0.100761</td>\n",
       "    </tr>\n",
       "    <tr>\n",
       "      <th>44</th>\n",
       "      <td>Civil_Twilight</td>\n",
       "      <td>0.100761</td>\n",
       "    </tr>\n",
       "    <tr>\n",
       "      <th>45</th>\n",
       "      <td>Nautical_Twilight</td>\n",
       "      <td>0.100761</td>\n",
       "    </tr>\n",
       "    <tr>\n",
       "      <th>46</th>\n",
       "      <td>Astronomical_Twilight</td>\n",
       "      <td>0.100761</td>\n",
       "    </tr>\n",
       "  </tbody>\n",
       "</table>\n",
       "</div>"
      ],
      "text/plain": [
       "                  Feature  Missing_Percent(%)\n",
       "10                 Number           61.290031\n",
       "11                 Street            0.000070\n",
       "13                   City            0.004815\n",
       "16                Zipcode            0.046356\n",
       "18               Timezone            0.128596\n",
       "19           Airport_Code            0.335601\n",
       "20      Weather_Timestamp            1.783125\n",
       "21         Temperature(F)            2.434646\n",
       "22          Wind_Chill(F)           16.505678\n",
       "23            Humidity(%)            2.568830\n",
       "24           Pressure(in)            2.080593\n",
       "25         Visibility(mi)            2.479350\n",
       "26         Wind_Direction            2.592834\n",
       "27        Wind_Speed(mph)            5.550967\n",
       "28      Precipitation(in)           19.310789\n",
       "29      Weather_Condition            2.482514\n",
       "43         Sunrise_Sunset            0.100761\n",
       "44         Civil_Twilight            0.100761\n",
       "45      Nautical_Twilight            0.100761\n",
       "46  Astronomical_Twilight            0.100761"
      ]
     },
     "execution_count": 56,
     "metadata": {},
     "output_type": "execute_result"
    }
   ],
   "source": [
    "##dropping missing values\n",
    "missing = pd.DataFrame(df.isnull().sum()).reset_index()\n",
    "missing.columns = ['Feature', 'Missing_Percent(%)']\n",
    "missing['Missing_Percent(%)'] = missing['Missing_Percent(%)'].apply(lambda x: x / df.shape[0] * 100)\n",
    "missing.loc[missing['Missing_Percent(%)']>0,:]"
   ]
  },
  {
   "cell_type": "code",
   "execution_count": 57,
   "id": "ac3c692f",
   "metadata": {},
   "outputs": [
    {
     "data": {
      "text/html": [
       "<div>\n",
       "<style scoped>\n",
       "    .dataframe tbody tr th:only-of-type {\n",
       "        vertical-align: middle;\n",
       "    }\n",
       "\n",
       "    .dataframe tbody tr th {\n",
       "        vertical-align: top;\n",
       "    }\n",
       "\n",
       "    .dataframe thead th {\n",
       "        text-align: right;\n",
       "    }\n",
       "</style>\n",
       "<table border=\"1\" class=\"dataframe\">\n",
       "  <thead>\n",
       "    <tr style=\"text-align: right;\">\n",
       "      <th></th>\n",
       "      <th>Precipitation(in)</th>\n",
       "      <th>Precipitation_NA</th>\n",
       "    </tr>\n",
       "  </thead>\n",
       "  <tbody>\n",
       "    <tr>\n",
       "      <th>0</th>\n",
       "      <td>0.00</td>\n",
       "      <td>0</td>\n",
       "    </tr>\n",
       "    <tr>\n",
       "      <th>1</th>\n",
       "      <td>0.02</td>\n",
       "      <td>0</td>\n",
       "    </tr>\n",
       "    <tr>\n",
       "      <th>2</th>\n",
       "      <td>0.02</td>\n",
       "      <td>0</td>\n",
       "    </tr>\n",
       "    <tr>\n",
       "      <th>3</th>\n",
       "      <td>0.00</td>\n",
       "      <td>1</td>\n",
       "    </tr>\n",
       "    <tr>\n",
       "      <th>4</th>\n",
       "      <td>0.01</td>\n",
       "      <td>0</td>\n",
       "    </tr>\n",
       "    <tr>\n",
       "      <th>5</th>\n",
       "      <td>0.00</td>\n",
       "      <td>1</td>\n",
       "    </tr>\n",
       "  </tbody>\n",
       "</table>\n",
       "</div>"
      ],
      "text/plain": [
       "   Precipitation(in)  Precipitation_NA\n",
       "0               0.00                 0\n",
       "1               0.02                 0\n",
       "2               0.02                 0\n",
       "3               0.00                 1\n",
       "4               0.01                 0\n",
       "5               0.00                 1"
      ]
     },
     "execution_count": 57,
     "metadata": {},
     "output_type": "execute_result"
    }
   ],
   "source": [
    "#dropping number and wind chill,   seperate percipitation values to get column with specific data (inches)\n",
    "\n",
    "df = df.drop(['Number','Wind_Chill(F)'], axis=1)\n",
    "df['Precipitation_NA'] = 0\n",
    "df.loc[df['Precipitation(in)'].isnull(),'Precipitation_NA'] = 1\n",
    "df['Precipitation(in)'] = df['Precipitation(in)'].fillna(df['Precipitation(in)'].median())\n",
    "df.loc[:5,['Precipitation(in)','Precipitation_NA']]"
   ]
  },
  {
   "cell_type": "code",
   "execution_count": 58,
   "id": "9c815437",
   "metadata": {},
   "outputs": [],
   "source": [
    "#dropping NaN values\n",
    "df = df.dropna(subset=['City','Zipcode','Airport_Code',\n",
    "                       'Sunrise_Sunset','Civil_Twilight','Nautical_Twilight','Astronomical_Twilight'])"
   ]
  },
  {
   "cell_type": "code",
   "execution_count": 59,
   "id": "4e25d88b",
   "metadata": {},
   "outputs": [
    {
     "data": {
      "text/plain": [
       "0    2703313\n",
       "1     130146\n",
       "Name: Severity4, dtype: int64"
      ]
     },
     "execution_count": 59,
     "metadata": {},
     "output_type": "execute_result"
    }
   ],
   "source": [
    "#set focus to severity and as were looking for info on serious / fatal accidents\n",
    "df['Severity4'] = 0\n",
    "df.loc[df['Severity'] == 4, 'Severity4'] = 1\n",
    "df = df.drop(['Severity'], axis = 1)\n",
    "df.Severity4.value_counts()"
   ]
  },
  {
   "cell_type": "code",
   "execution_count": 60,
   "id": "60a1e226",
   "metadata": {},
   "outputs": [],
   "source": [
    "#resampling for exploratory analysis\n",
    "def resample(dat, col, n):\n",
    "    return pd.concat([dat[dat[col]==1].sample(n, replace = True),\n",
    "                   dat[dat[col]==0].sample(n)], axis=0)"
   ]
  },
  {
   "cell_type": "code",
   "execution_count": 61,
   "id": "66bc3c5f",
   "metadata": {},
   "outputs": [
    {
     "name": "stdout",
     "output_type": "stream",
     "text": [
      "resampled data: 1    50000\n",
      "0    50000\n",
      "Name: Severity4, dtype: int64\n"
     ]
    }
   ],
   "source": [
    "df_bl = resample(df, 'Severity4', 50000)\n",
    "print('resampled data:', df_bl.Severity4.value_counts())"
   ]
  },
  {
   "cell_type": "code",
   "execution_count": 70,
   "id": "b82c154c",
   "metadata": {},
   "outputs": [
    {
     "name": "stdout",
     "output_type": "stream",
     "text": [
      "Weather Conditions:  ['', 'Clear', 'Cloudy', 'Drifting Snow', 'Drizzle', 'Dust', 'Dust Whirls', 'Dust Whirls Nearby', 'Dust Whirlwinds', 'Duststorm', 'Fair', 'Fog', 'Funnel Cloud', 'Hail', 'Haze', 'Heavy ', 'Heavy Drizzle', 'Heavy Ice Pellets', 'Heavy Rain', 'Heavy Rain Shower', 'Heavy Rain Showers', 'Heavy Sleet', 'Heavy Snow', 'Heavy T-Storm', 'Heavy Thunderstorms', 'Ice Pellets', 'Light ', 'Light Drizzle', 'Light Fog', 'Light Haze', 'Light Ice Pellets', 'Light Rain', 'Light Rain Shower', 'Light Rain Showers', 'Light Sleet', 'Light Snow', 'Light Snow Shower', 'Light Snow Showers', 'Light Thunderstorms', 'Low Drifting Snow', 'Mist', 'N/A Precipitation', 'Overcast', 'Partial Fog', 'Patches of Fog', 'Rain', 'Rain Shower', 'Rain Showers', 'Sand', 'Scattered Clouds', 'Shallow Fog', 'Showers in the Vicinity', 'Sleet', 'Small Hail', 'Smoke', 'Snow', 'Snow Grains', 'Snow Nearby', 'Squalls', 'T-Storm', 'Thunder', 'Thunder in the Vicinity', 'Thunderstorm', 'Thunderstorms', 'Tornado', 'Volcanic Ash', 'Widespread Dust', 'Windy', 'Wintry Mix']\n"
     ]
    }
   ],
   "source": [
    "weather ='!'.join(df['Weather_Condition'].dropna().unique().tolist())\n",
    "weather = np.unique(np.array(re.split(\n",
    "    \"!|\\s/\\s|\\sand\\s|\\swith\\s|Partly\\s|Mostly\\s|Blowing\\s|Freezing\\s\", weather))).tolist()\n",
    "print(\"Weather Conditions: \", weather)"
   ]
  },
  {
   "cell_type": "code",
   "execution_count": 72,
   "id": "b740bdd7",
   "metadata": {},
   "outputs": [
    {
     "data": {
      "text/html": [
       "<div>\n",
       "<style scoped>\n",
       "    .dataframe tbody tr th:only-of-type {\n",
       "        vertical-align: middle;\n",
       "    }\n",
       "\n",
       "    .dataframe tbody tr th {\n",
       "        vertical-align: top;\n",
       "    }\n",
       "\n",
       "    .dataframe thead th {\n",
       "        text-align: right;\n",
       "    }\n",
       "</style>\n",
       "<table border=\"1\" class=\"dataframe\">\n",
       "  <thead>\n",
       "    <tr style=\"text-align: right;\">\n",
       "      <th></th>\n",
       "      <th>Feature</th>\n",
       "      <th>Missing_Percent(%)</th>\n",
       "    </tr>\n",
       "  </thead>\n",
       "  <tbody>\n",
       "    <tr>\n",
       "      <th>9</th>\n",
       "      <td>Street</td>\n",
       "      <td>0.000035</td>\n",
       "    </tr>\n",
       "    <tr>\n",
       "      <th>18</th>\n",
       "      <td>Temperature(F)</td>\n",
       "      <td>2.106012</td>\n",
       "    </tr>\n",
       "    <tr>\n",
       "      <th>19</th>\n",
       "      <td>Humidity(%)</td>\n",
       "      <td>2.240689</td>\n",
       "    </tr>\n",
       "    <tr>\n",
       "      <th>20</th>\n",
       "      <td>Pressure(in)</td>\n",
       "      <td>1.750616</td>\n",
       "    </tr>\n",
       "    <tr>\n",
       "      <th>21</th>\n",
       "      <td>Visibility(mi)</td>\n",
       "      <td>2.149387</td>\n",
       "    </tr>\n",
       "    <tr>\n",
       "      <th>22</th>\n",
       "      <td>Wind_Direction</td>\n",
       "      <td>2.264370</td>\n",
       "    </tr>\n",
       "    <tr>\n",
       "      <th>23</th>\n",
       "      <td>Wind_Speed(mph)</td>\n",
       "      <td>5.234591</td>\n",
       "    </tr>\n",
       "    <tr>\n",
       "      <th>25</th>\n",
       "      <td>Weather_Condition</td>\n",
       "      <td>2.153163</td>\n",
       "    </tr>\n",
       "  </tbody>\n",
       "</table>\n",
       "</div>"
      ],
      "text/plain": [
       "              Feature  Missing_Percent(%)\n",
       "9              Street            0.000035\n",
       "18     Temperature(F)            2.106012\n",
       "19        Humidity(%)            2.240689\n",
       "20       Pressure(in)            1.750616\n",
       "21     Visibility(mi)            2.149387\n",
       "22     Wind_Direction            2.264370\n",
       "23    Wind_Speed(mph)            5.234591\n",
       "25  Weather_Condition            2.153163"
      ]
     },
     "execution_count": 72,
     "metadata": {},
     "output_type": "execute_result"
    }
   ],
   "source": [
    "#clean missing values in types\n",
    "\n",
    "missing = pd.DataFrame(df.isnull().sum()).reset_index()\n",
    "missing.columns = ['Feature', 'Missing_Percent(%)']\n",
    "missing['Missing_Percent(%)'] = missing['Missing_Percent(%)'].apply(lambda x: x / df.shape[0] * 100)\n",
    "missing.loc[missing['Missing_Percent(%)']>0,:]"
   ]
  },
  {
   "cell_type": "code",
   "execution_count": 83,
   "id": "1a6cd1b4",
   "metadata": {},
   "outputs": [
    {
     "data": {
      "text/plain": [
       "Miami                           106966\n",
       "Los Angeles                      68956\n",
       "Orlando                          54691\n",
       "Dallas                           41979\n",
       "Houston                          39448\n",
       "                                 ...  \n",
       "Ridgedale                            1\n",
       "Sekiu                                1\n",
       "Wooldridge                           1\n",
       "Bullock                              1\n",
       "American Fork-Pleasant Grove         1\n",
       "Name: City, Length: 11681, dtype: int64"
      ]
     },
     "execution_count": 83,
     "metadata": {},
     "output_type": "execute_result"
    }
   ],
   "source": [
    "accidents_by_cities = us_accidents['City'].value_counts()\n",
    "accidents_by_cities"
   ]
  },
  {
   "cell_type": "code",
   "execution_count": 84,
   "id": "628820c1",
   "metadata": {},
   "outputs": [
    {
     "data": {
      "text/plain": [
       "Miami          106966\n",
       "Los Angeles     68956\n",
       "Orlando         54691\n",
       "Dallas          41979\n",
       "Houston         39448\n",
       "Charlotte       33152\n",
       "Sacramento      32559\n",
       "San Diego       26627\n",
       "Raleigh         22840\n",
       "Minneapolis     22768\n",
       "Name: City, dtype: int64"
      ]
     },
     "execution_count": 84,
     "metadata": {},
     "output_type": "execute_result"
    }
   ],
   "source": [
    "accidents_by_cities[:10]"
   ]
  },
  {
   "cell_type": "code",
   "execution_count": 85,
   "id": "289fcf0e",
   "metadata": {},
   "outputs": [
    {
     "data": {
      "image/png": "[encoded data removed]",
      "text/plain": [
       "<Figure size 576x360 with 1 Axes>"
      ]
     },
     "metadata": {
      "needs_background": "light"
     },
     "output_type": "display_data"
    }
   ],
   "source": [
    "#Bar Chart to Visualize Top 10 cities by number of accidents\n",
    "\n",
    "fig, ax = plt.subplots(figsize=(8,5))\n",
    "accidents_by_cities[:10].plot(kind='bar')\n",
    "ax.set(title = 'Top 10 cities By Number of Accidents',\n",
    "       xlabel = 'Cities',\n",
    "       ylabel = 'Accidents Count')\n",
    "plt.show()"
   ]
  },
  {
   "cell_type": "code",
   "execution_count": 86,
   "id": "555bddec",
   "metadata": {},
   "outputs": [],
   "source": [
    "#grouping  data by high and low\n",
    "\n",
    "high_accident_cities = accidents_by_cities = accidents_by_cities[accidents_by_cities>=1000]\n",
    "low_accident_cities = accidents_by_cities = accidents_by_cities[accidents_by_cities<1000]"
   ]
  },
  {
   "cell_type": "code",
   "execution_count": 87,
   "id": "5c8d029a",
   "metadata": {},
   "outputs": [
    {
     "data": {
      "image/png": "[encoded data removed]",
      "text/plain": [
       "<Figure size 576x360 with 1 Axes>"
      ]
     },
     "metadata": {
      "needs_background": "light"
     },
     "output_type": "display_data"
    }
   ],
   "source": [
    "# Zoom in on the data distribution for cities with high accidents\n",
    "\n",
    "fig, axs = plt.subplots(1, 1,figsize =(8, 5), tight_layout = True)\n",
    "\n",
    "high_accident_cities.hist(bins = 50)\n",
    "\n",
    "plt.xlabel(\"X-axis\")\n",
    "plt.ylabel(\"y-axis\")\n",
    "plt.title('Accidents Count By Cities > 1000')\n",
    "\n",
    "plt.show()"
   ]
  },
  {
   "cell_type": "code",
   "execution_count": 88,
   "id": "fd9d8757",
   "metadata": {},
   "outputs": [
    {
     "data": {
      "text/plain": [
       "Severity\n",
       "1      26053\n",
       "2    2532991\n",
       "3     155105\n",
       "4     131193\n",
       "Name: ID, dtype: int64"
      ]
     },
     "execution_count": 88,
     "metadata": {},
     "output_type": "execute_result"
    }
   ],
   "source": [
    "# Accidents by order of severity (1 being lowest, and 4 being highest)\n",
    "\n",
    "us_accidents.groupby('Severity').count()['ID']"
   ]
  },
  {
   "cell_type": "code",
   "execution_count": 89,
   "id": "dc1dc5d6",
   "metadata": {},
   "outputs": [
    {
     "data": {
      "text/plain": [
       "Severity\n",
       "1      26053\n",
       "2    2532991\n",
       "3     155105\n",
       "4     131193\n",
       "Name: ID, dtype: int64"
      ]
     },
     "execution_count": 89,
     "metadata": {},
     "output_type": "execute_result"
    }
   ],
   "source": [
    "# Accidents severity\n",
    "\n",
    "accidents_severity = us_accidents.groupby('Severity').count()['ID']\n",
    "accidents_severity"
   ]
  },
  {
   "cell_type": "code",
   "execution_count": 90,
   "id": "feb9213c",
   "metadata": {},
   "outputs": [
    {
     "data": {
      "image/png": "[encoded data removed]",
      "text/plain": [
       "<Figure size 576x432 with 1 Axes>"
      ]
     },
     "metadata": {},
     "output_type": "display_data"
    }
   ],
   "source": [
    "#visual for the severity data\n",
    "\n",
    "fig, ax = plt.subplots(figsize=(8, 6), subplot_kw=dict(aspect=\"equal\"))\n",
    "label = [1,2,3,4]\n",
    "plt.pie(accidents_severity, labels=label,\n",
    "        autopct='%1.1f%%', pctdistance=0.85)\n",
    "circle = plt.Circle( (0,0), 0.7, color='white')\n",
    "p=plt.gcf()\n",
    "p.gca().add_artist(circle)\n",
    "ax.set_title(\"Accident by Severity\",fontdict={'fontsize': 16})\n",
    "plt.tight_layout()\n",
    "plt.show()"
   ]
  },
  {
   "cell_type": "code",
   "execution_count": null,
   "id": "2028d43a",
   "metadata": {},
   "outputs": [],
   "source": [
    "# above chart of data showing 4.6% being severe"
   ]
  },
  {
   "cell_type": "code",
   "execution_count": 91,
   "id": "78acf616",
   "metadata": {},
   "outputs": [
    {
     "data": {
      "text/plain": [
       "dtype('O')"
      ]
     },
     "execution_count": 91,
     "metadata": {},
     "output_type": "execute_result"
    }
   ],
   "source": [
    "#alter datetime formating for graphing\n",
    "\n",
    "us_accidents['Start_Time'].dtypes\n",
    "us_accidents['End_Time'].dtypes"
   ]
  },
  {
   "cell_type": "code",
   "execution_count": 92,
   "id": "e889006a",
   "metadata": {},
   "outputs": [
    {
     "data": {
      "text/plain": [
       "dtype('<M8[ns]')"
      ]
     },
     "execution_count": 92,
     "metadata": {},
     "output_type": "execute_result"
    }
   ],
   "source": [
    "us_accidents = us_accidents.astype({'Start_Time': 'datetime64[ns]', 'End_Time': 'datetime64[ns]'})\n",
    "us_accidents['Start_Time'].dtypes"
   ]
  },
  {
   "cell_type": "code",
   "execution_count": 93,
   "id": "c893e85a",
   "metadata": {},
   "outputs": [
    {
     "data": {
      "text/plain": [
       "Timestamp('2016-02-08 00:37:08')"
      ]
     },
     "execution_count": 93,
     "metadata": {},
     "output_type": "execute_result"
    }
   ],
   "source": [
    "#starting\n",
    "us_accidents['Start_Time'][0]"
   ]
  },
  {
   "cell_type": "code",
   "execution_count": 94,
   "id": "5ff06508",
   "metadata": {},
   "outputs": [
    {
     "data": {
      "text/plain": [
       "Timestamp('2016-02-08 06:37:08')"
      ]
     },
     "execution_count": 94,
     "metadata": {},
     "output_type": "execute_result"
    }
   ],
   "source": [
    "#ending\n",
    "us_accidents['End_Time'][0]"
   ]
  },
  {
   "cell_type": "code",
   "execution_count": 95,
   "id": "3e318696",
   "metadata": {},
   "outputs": [
    {
     "data": {
      "image/png": "[encoded data removed]",
      "text/plain": [
       "<Figure size 576x360 with 1 Axes>"
      ]
     },
     "metadata": {
      "needs_background": "light"
     },
     "output_type": "display_data"
    }
   ],
   "source": [
    "#occurence by time of the day\n",
    "\n",
    "fig, ax = plt.subplots(figsize=(8,5))\n",
    "sns.histplot(us_accidents['Start_Time'].dt.hour, bins = 24)\n",
    "\n",
    "plt.xlabel(\"Start Time\")\n",
    "plt.ylabel(\"Number of Occurence\")\n",
    "plt.title('Accidents Count By Time of Day')\n",
    "\n",
    "plt.show()"
   ]
  },
  {
   "cell_type": "code",
   "execution_count": 96,
   "id": "726fd735",
   "metadata": {},
   "outputs": [
    {
     "data": {
      "image/png": "[encoded data removed]",
      "text/plain": [
       "<Figure size 576x360 with 1 Axes>"
      ]
     },
     "metadata": {
      "needs_background": "light"
     },
     "output_type": "display_data"
    }
   ],
   "source": [
    "#by weekday\n",
    "\n",
    "fig, ax = plt.subplots(figsize=(8,5))\n",
    "sns.histplot(us_accidents['Start_Time'].dt.dayofweek, bins = 7)\n",
    "\n",
    "plt.xlabel(\"Day of Week\")\n",
    "plt.ylabel(\"Occurence\")\n",
    "plt.title('Accidents Occurence by Day of the Week')\n",
    "\n",
    "plt.show()"
   ]
  },
  {
   "cell_type": "code",
   "execution_count": 97,
   "id": "a9d54c3f",
   "metadata": {},
   "outputs": [],
   "source": [
    "#variable of weekend days for next analysis\n",
    "\n",
    "saturday = us_accidents[us_accidents['Start_Time'].dt.dayofweek == 5]\n",
    "sunday = us_accidents[us_accidents['Start_Time'].dt.dayofweek == 6]"
   ]
  },
  {
   "cell_type": "code",
   "execution_count": 98,
   "id": "21b8a750",
   "metadata": {},
   "outputs": [
    {
     "data": {
      "image/png": "[encoded data removed]",
      "text/plain": [
       "<Figure size 576x360 with 1 Axes>"
      ]
     },
     "metadata": {
      "needs_background": "light"
     },
     "output_type": "display_data"
    }
   ],
   "source": [
    "#difference in only weekend activity\n",
    "\n",
    "fig, ax = plt.subplots(figsize=(8,5))\n",
    "sns.histplot(saturday['Start_Time'].dt.hour, bins = 24)\n",
    "\n",
    "plt.xlabel(\"Hour of the Day\")\n",
    "plt.ylabel(\"Accident Occurence\")\n",
    "plt.title('Accidents Occurence on Saturdays')\n",
    "\n",
    "plt.show()"
   ]
  },
  {
   "cell_type": "code",
   "execution_count": 99,
   "id": "1fca7592",
   "metadata": {},
   "outputs": [
    {
     "data": {
      "image/png": "[encoded data removed]",
      "text/plain": [
       "<Figure size 576x360 with 1 Axes>"
      ]
     },
     "metadata": {
      "needs_background": "light"
     },
     "output_type": "display_data"
    }
   ],
   "source": [
    "#figure shown for sunday\n",
    "\n",
    "fig, ax = plt.subplots(figsize=(8,5))\n",
    "sns.histplot(sunday['Start_Time'].dt.hour, bins = 24)\n",
    "\n",
    "plt.xlabel(\"Hour of the Day\")\n",
    "plt.ylabel(\"Accident Occurence\")\n",
    "plt.title('Accidents Occurence on Sundays')\n",
    "\n",
    "plt.show()"
   ]
  },
  {
   "cell_type": "code",
   "execution_count": 100,
   "id": "11336912",
   "metadata": {},
   "outputs": [],
   "source": [
    "#random day for analysis\n",
    "import random"
   ]
  },
  {
   "cell_type": "code",
   "execution_count": 101,
   "id": "23fab3f5",
   "metadata": {},
   "outputs": [
    {
     "data": {
      "text/plain": [
       "3"
      ]
     },
     "execution_count": 101,
     "metadata": {},
     "output_type": "execute_result"
    }
   ],
   "source": [
    "# get random week day\n",
    "weekdays_in_numbers = [0,1,2,3,4]\n",
    "random_num = random.choice(weekdays_in_numbers)\n",
    "random_num"
   ]
  },
  {
   "cell_type": "code",
   "execution_count": 102,
   "id": "181d2b18",
   "metadata": {},
   "outputs": [],
   "source": [
    "#for analysis,  showing tuesday\n",
    "tuesday = us_accidents[us_accidents['Start_Time'].dt.dayofweek == 1]"
   ]
  },
  {
   "cell_type": "code",
   "execution_count": 103,
   "id": "d1291d7b",
   "metadata": {},
   "outputs": [
    {
     "data": {
      "image/png": "[encoded data removed]",
      "text/plain": [
       "<Figure size 576x360 with 1 Axes>"
      ]
     },
     "metadata": {
      "needs_background": "light"
     },
     "output_type": "display_data"
    }
   ],
   "source": [
    "# Graph is similar to the general\n",
    "fig, ax = plt.subplots(figsize=(8,5))\n",
    "sns.histplot(tuesday['Start_Time'].dt.hour, bins = 24)\n",
    "\n",
    "plt.xlabel(\"Hour of the Day\")\n",
    "plt.ylabel(\"Accident Occurence\")\n",
    "plt.title('Accidents Occurence on Tuesdays')\n",
    "\n",
    "plt.show()"
   ]
  },
  {
   "cell_type": "code",
   "execution_count": 104,
   "id": "8cd17f6c",
   "metadata": {},
   "outputs": [
    {
     "data": {
      "image/png": "[encoded data removed]",
      "text/plain": [
       "<Figure size 576x360 with 1 Axes>"
      ]
     },
     "metadata": {
      "needs_background": "light"
     },
     "output_type": "display_data"
    }
   ],
   "source": [
    "#additional plotting by month\n",
    "\n",
    "fig, ax = plt.subplots(figsize=(8,5))\n",
    "sns.histplot(us_accidents['Start_Time'].dt.month, bins = 12)\n",
    "\n",
    "plt.xlabel(\"Month of Year\")\n",
    "plt.ylabel(\"Accidents Occurence\")\n",
    "plt.title('Accidents Occurence by Month of the Year')\n",
    "\n",
    "plt.show()"
   ]
  },
  {
   "cell_type": "code",
   "execution_count": 105,
   "id": "65e30a8d",
   "metadata": {},
   "outputs": [
    {
     "data": {
      "image/png": "[encoded data removed]",
      "text/plain": [
       "<Figure size 576x360 with 1 Axes>"
      ]
     },
     "metadata": {
      "needs_background": "light"
     },
     "output_type": "display_data"
    }
   ],
   "source": [
    "#showing latest year data available only by month\n",
    "\n",
    "fig, ax = plt.subplots(figsize=(8,5))\n",
    "dt_2016 = us_accidents[us_accidents['Start_Time'].dt.year==2021]\n",
    "sns.histplot(dt_2016['Start_Time'].dt.month, bins = 12)\n",
    "\n",
    "plt.xlabel(\"Year 2016\")\n",
    "plt.ylabel(\"Accidents Occurence\")\n",
    "plt.title('Accidents Occurence by Month in 2021')\n",
    "\n",
    "plt.show()"
   ]
  },
  {
   "cell_type": "code",
   "execution_count": 106,
   "id": "25a63b07",
   "metadata": {},
   "outputs": [
    {
     "data": {
      "text/plain": [
       "Weather_Condition\n",
       "Blowing Dust                142\n",
       "Blowing Dust / Windy        148\n",
       "Blowing Sand                  1\n",
       "Blowing Snow                162\n",
       "Blowing Snow / Windy         86\n",
       "                           ... \n",
       "Volcanic Ash                  4\n",
       "Widespread Dust              50\n",
       "Widespread Dust / Windy      18\n",
       "Wintry Mix                 3843\n",
       "Wintry Mix / Windy           74\n",
       "Name: ID, Length: 127, dtype: int64"
      ]
     },
     "execution_count": 106,
     "metadata": {},
     "output_type": "execute_result"
    }
   ],
   "source": [
    "#weather at time of accident\n",
    "\n",
    "weather_conditions = us_accidents.groupby(['Weather_Condition']).count()['ID']\n",
    "weather_conditions"
   ]
  },
  {
   "cell_type": "code",
   "execution_count": 107,
   "id": "efdb44d2",
   "metadata": {},
   "outputs": [
    {
     "data": {
      "text/plain": [
       "Weather_Condition\n",
       "Fair                         1107194\n",
       "Mostly Cloudy                 363959\n",
       "Cloudy                        348767\n",
       "Partly Cloudy                 249939\n",
       "Clear                         173823\n",
       "                              ...   \n",
       "Low Drifting Snow                  1\n",
       "Light Fog                          1\n",
       "Mist / Windy                       1\n",
       "Sand / Dust Whirls Nearby          1\n",
       "Sleet / Windy                      1\n",
       "Name: ID, Length: 127, dtype: int64"
      ]
     },
     "execution_count": 107,
     "metadata": {},
     "output_type": "execute_result"
    }
   ],
   "source": [
    "#sorted conditions\n",
    "weather_conditions.sort_values(ascending=False)"
   ]
  },
  {
   "cell_type": "code",
   "execution_count": 108,
   "id": "99b6d2a9",
   "metadata": {},
   "outputs": [
    {
     "data": {
      "text/plain": [
       "Weather_Condition\n",
       "Fair                       1107194\n",
       "Mostly Cloudy               363959\n",
       "Cloudy                      348767\n",
       "Partly Cloudy               249939\n",
       "Clear                       173823\n",
       "Light Rain                  128403\n",
       "Overcast                     84882\n",
       "Scattered Clouds             45132\n",
       "Light Snow                   43752\n",
       "Fog                          41226\n",
       "Haze                         36354\n",
       "Rain                         31044\n",
       "Fair / Windy                 15195\n",
       "Heavy Rain                   11824\n",
       "Smoke                         7200\n",
       "Light Drizzle                 7041\n",
       "Thunder in the Vicinity       6944\n",
       "Cloudy / Windy                6839\n",
       "T-Storm                       6546\n",
       "Mostly Cloudy / Windy         6297\n",
       "Name: ID, dtype: int64"
      ]
     },
     "execution_count": 108,
     "metadata": {},
     "output_type": "execute_result"
    }
   ],
   "source": [
    "#sorted and filtered to top 20\n",
    "\n",
    "weather_conditions.sort_values(ascending=False)[:20]"
   ]
  },
  {
   "cell_type": "code",
   "execution_count": 109,
   "id": "f07049e8",
   "metadata": {},
   "outputs": [
    {
     "data": {
      "image/png": "[encoded data removed]",
      "text/plain": [
       "<Figure size 576x360 with 1 Axes>"
      ]
     },
     "metadata": {
      "needs_background": "light"
     },
     "output_type": "display_data"
    }
   ],
   "source": [
    "#bar plot visual for the weather data\n",
    "fig, ax = plt.subplots(figsize=(8,5))\n",
    "weather_conditions.sort_values(ascending=False)[:20].plot(kind='bar')\n",
    "ax.set(title = 'Weather Conditions at Time of Accident Occurence',\n",
    "       xlabel = 'Weather',\n",
    "       ylabel = 'Accidents Count')\n",
    "plt.show()"
   ]
  },
  {
   "cell_type": "code",
   "execution_count": null,
   "id": "e1ccb443",
   "metadata": {},
   "outputs": [],
   "source": []
  }
 ],
 "metadata": {
  "kernelspec": {
   "display_name": "PythonData",
   "language": "python",
   "name": "pythondata"
  },
  "language_info": {
   "codemirror_mode": {
    "name": "ipython",
    "version": 3
   },
   "file_extension": ".py",
   "mimetype": "text/x-python",
   "name": "python",
   "nbconvert_exporter": "python",
   "pygments_lexer": "ipython3",
   "version": "3.7.11"
  }
 },
 "nbformat": 4,
 "nbformat_minor": 5
}
